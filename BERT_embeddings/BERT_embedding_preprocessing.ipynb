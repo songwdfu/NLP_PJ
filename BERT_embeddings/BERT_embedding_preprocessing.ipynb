{
 "cells": [
  {
   "cell_type": "code",
   "execution_count": 6,
   "metadata": {},
   "outputs": [],
   "source": [
    "import torch\n",
    "import pickle as pkl\n",
    "import pandas as pd\n",
    "import numpy as np"
   ]
  },
  {
   "cell_type": "code",
   "execution_count": 8,
   "metadata": {},
   "outputs": [],
   "source": [
    "import os\n",
    "os.chdir('..')"
   ]
  },
  {
   "cell_type": "code",
   "execution_count": 2,
   "metadata": {},
   "outputs": [
    {
     "data": {
      "text/plain": [
       "True"
      ]
     },
     "execution_count": 2,
     "metadata": {},
     "output_type": "execute_result"
    }
   ],
   "source": [
    "torch.cuda.is_available()"
   ]
  },
  {
   "cell_type": "code",
   "execution_count": 3,
   "metadata": {},
   "outputs": [
    {
     "name": "stderr",
     "output_type": "stream",
     "text": [
      "Downloading (…)821d1/.gitattributes: 100%|██████████| 391/391 [00:00<00:00, 391kB/s]\n",
      "Downloading (…)_Pooling/config.json: 100%|██████████| 190/190 [00:00<00:00, 190kB/s]\n",
      "Downloading (…)8d01e821d1/README.md: 100%|██████████| 3.95k/3.95k [00:00<00:00, 3.94MB/s]\n",
      "Downloading (…)d1/added_tokens.json: 100%|██████████| 2.00/2.00 [00:00<00:00, 999B/s]\n",
      "Downloading (…)01e821d1/config.json: 100%|██████████| 625/625 [00:00<00:00, 309kB/s]\n",
      "Downloading (…)ce_transformers.json: 100%|██████████| 122/122 [00:00<00:00, 60.6kB/s]\n",
      "Downloading pytorch_model.bin: 100%|██████████| 438M/438M [00:48<00:00, 8.94MB/s] \n",
      "Downloading (…)nce_bert_config.json: 100%|██████████| 53.0/53.0 [00:00<00:00, 23.0kB/s]\n",
      "Downloading (…)cial_tokens_map.json: 100%|██████████| 112/112 [00:00<00:00, 55.8kB/s]\n",
      "Downloading (…)821d1/tokenizer.json: 100%|██████████| 466k/466k [00:00<00:00, 949kB/s]\n",
      "Downloading (…)okenizer_config.json: 100%|██████████| 399/399 [00:00<00:00, 199kB/s]\n",
      "Downloading (…)8d01e821d1/vocab.txt: 100%|██████████| 232k/232k [00:00<00:00, 749kB/s]\n",
      "Downloading (…)1e821d1/modules.json: 100%|██████████| 229/229 [00:00<00:00, 93.1kB/s]\n"
     ]
    }
   ],
   "source": [
    "from sentence_transformers import SentenceTransformer\n",
    "\n",
    "model_name = 'bert-base-nli-mean-tokens'\n",
    "model = SentenceTransformer(model_name)"
   ]
  },
  {
   "cell_type": "code",
   "execution_count": null,
   "metadata": {},
   "outputs": [],
   "source": [
    "device = torch.device('cuda:0')"
   ]
  },
  {
   "cell_type": "code",
   "execution_count": 17,
   "metadata": {},
   "outputs": [
    {
     "data": {
      "text/plain": [
       "SentenceTransformer(\n",
       "  (0): Transformer({'max_seq_length': 128, 'do_lower_case': False}) with Transformer model: BertModel \n",
       "  (1): Pooling({'word_embedding_dimension': 768, 'pooling_mode_cls_token': False, 'pooling_mode_mean_tokens': True, 'pooling_mode_max_tokens': False, 'pooling_mode_mean_sqrt_len_tokens': False})\n",
       ")"
      ]
     },
     "execution_count": 17,
     "metadata": {},
     "output_type": "execute_result"
    }
   ],
   "source": [
    "model.to(device)"
   ]
  },
  {
   "cell_type": "code",
   "execution_count": 18,
   "metadata": {},
   "outputs": [],
   "source": [
    "sentence_embeddings = model.encode(sent)"
   ]
  },
  {
   "cell_type": "code",
   "execution_count": 19,
   "metadata": {},
   "outputs": [
    {
     "data": {
      "text/plain": [
       "(16, 768)"
      ]
     },
     "execution_count": 19,
     "metadata": {},
     "output_type": "execute_result"
    }
   ],
   "source": [
    "sentence_embeddings.shape"
   ]
  },
  {
   "cell_type": "code",
   "execution_count": null,
   "metadata": {},
   "outputs": [],
   "source": []
  },
  {
   "cell_type": "code",
   "execution_count": 9,
   "metadata": {},
   "outputs": [],
   "source": [
    "body_train = pkl.load(open('sentences/body_train.pkl','rb'))\n",
    "body_test = pkl.load(open('sentences/body_test.pkl','rb'))\n",
    "stance_train = pkl.load(open('sentences/stance_train.pkl','rb'))\n",
    "stance_test = pkl.load(open('sentences/stance_test.pkl','rb'))"
   ]
  },
  {
   "cell_type": "code",
   "execution_count": 20,
   "metadata": {},
   "outputs": [],
   "source": [
    "def get_embedding(sent):\n",
    "    return model.encode(sent)"
   ]
  },
  {
   "cell_type": "code",
   "execution_count": 29,
   "metadata": {},
   "outputs": [],
   "source": [
    "import torch.nn.functional as F"
   ]
  },
  {
   "cell_type": "code",
   "execution_count": 22,
   "metadata": {},
   "outputs": [],
   "source": [
    "a = sent[0]"
   ]
  },
  {
   "cell_type": "code",
   "execution_count": 37,
   "metadata": {},
   "outputs": [],
   "source": [
    "s = sent[1]"
   ]
  },
  {
   "cell_type": "code",
   "execution_count": 23,
   "metadata": {},
   "outputs": [],
   "source": [
    "s = \"I'm a happy student studying in a university.\""
   ]
  },
  {
   "cell_type": "code",
   "execution_count": 31,
   "metadata": {},
   "outputs": [],
   "source": [
    "a_ = torch.tensor(model.encode(a))"
   ]
  },
  {
   "cell_type": "code",
   "execution_count": 38,
   "metadata": {},
   "outputs": [],
   "source": [
    "s_ = torch.tensor(model.encode(s))"
   ]
  },
  {
   "cell_type": "code",
   "execution_count": 39,
   "metadata": {},
   "outputs": [
    {
     "data": {
      "text/plain": [
       "tensor([0.6480])"
      ]
     },
     "execution_count": 39,
     "metadata": {},
     "output_type": "execute_result"
    }
   ],
   "source": [
    "F.cosine_similarity(a_.unsqueeze(0),s_.unsqueeze(0))"
   ]
  },
  {
   "cell_type": "code",
   "execution_count": 40,
   "metadata": {},
   "outputs": [],
   "source": [
    "body_train['embeddings'] = body_train['sentences'].apply(get_embedding)"
   ]
  },
  {
   "cell_type": "code",
   "execution_count": 42,
   "metadata": {},
   "outputs": [
    {
     "data": {
      "text/html": [
       "<div>\n",
       "<style scoped>\n",
       "    .dataframe tbody tr th:only-of-type {\n",
       "        vertical-align: middle;\n",
       "    }\n",
       "\n",
       "    .dataframe tbody tr th {\n",
       "        vertical-align: top;\n",
       "    }\n",
       "\n",
       "    .dataframe thead th {\n",
       "        text-align: right;\n",
       "    }\n",
       "</style>\n",
       "<table border=\"1\" class=\"dataframe\">\n",
       "  <thead>\n",
       "    <tr style=\"text-align: right;\">\n",
       "      <th></th>\n",
       "      <th>Body ID</th>\n",
       "      <th>articleBody</th>\n",
       "      <th>sentences</th>\n",
       "      <th>embeddings</th>\n",
       "    </tr>\n",
       "  </thead>\n",
       "  <tbody>\n",
       "    <tr>\n",
       "      <th>0</th>\n",
       "      <td>0</td>\n",
       "      <td>A small meteorite crashed into a wooded area i...</td>\n",
       "      <td>[A small meteorite crashed into a wooded area ...</td>\n",
       "      <td>[[0.04417499, 0.2813075, 0.08948864, 0.4299080...</td>\n",
       "    </tr>\n",
       "    <tr>\n",
       "      <th>1</th>\n",
       "      <td>4</td>\n",
       "      <td>Last week we hinted at what was to come as Ebo...</td>\n",
       "      <td>[Last week we hinted at what was to come as Eb...</td>\n",
       "      <td>[[0.3306326, -0.3482146, 0.4529167, 0.09398288...</td>\n",
       "    </tr>\n",
       "    <tr>\n",
       "      <th>2</th>\n",
       "      <td>5</td>\n",
       "      <td>(NEWSER) – Wonder how long a Quarter Pounder w...</td>\n",
       "      <td>[(NEWSER) – Wonder how long a Quarter Pounder ...</td>\n",
       "      <td>[[-0.18273714, 0.75774044, -0.06936457, -0.440...</td>\n",
       "    </tr>\n",
       "    <tr>\n",
       "      <th>3</th>\n",
       "      <td>6</td>\n",
       "      <td>Posting photos of a gun-toting child online, I...</td>\n",
       "      <td>[Posting photos of a gun-toting child online, ...</td>\n",
       "      <td>[[0.08154284, 0.5142628, 0.0099390745, 0.10628...</td>\n",
       "    </tr>\n",
       "    <tr>\n",
       "      <th>4</th>\n",
       "      <td>7</td>\n",
       "      <td>At least 25 suspected Boko Haram insurgents we...</td>\n",
       "      <td>[At least 25 suspected Boko Haram insurgents w...</td>\n",
       "      <td>[[-0.16386387, 0.12687834, -0.89488053, -0.150...</td>\n",
       "    </tr>\n",
       "  </tbody>\n",
       "</table>\n",
       "</div>"
      ],
      "text/plain": [
       "   Body ID                                        articleBody  \\\n",
       "0        0  A small meteorite crashed into a wooded area i...   \n",
       "1        4  Last week we hinted at what was to come as Ebo...   \n",
       "2        5  (NEWSER) – Wonder how long a Quarter Pounder w...   \n",
       "3        6  Posting photos of a gun-toting child online, I...   \n",
       "4        7  At least 25 suspected Boko Haram insurgents we...   \n",
       "\n",
       "                                           sentences  \\\n",
       "0  [A small meteorite crashed into a wooded area ...   \n",
       "1  [Last week we hinted at what was to come as Eb...   \n",
       "2  [(NEWSER) – Wonder how long a Quarter Pounder ...   \n",
       "3  [Posting photos of a gun-toting child online, ...   \n",
       "4  [At least 25 suspected Boko Haram insurgents w...   \n",
       "\n",
       "                                          embeddings  \n",
       "0  [[0.04417499, 0.2813075, 0.08948864, 0.4299080...  \n",
       "1  [[0.3306326, -0.3482146, 0.4529167, 0.09398288...  \n",
       "2  [[-0.18273714, 0.75774044, -0.06936457, -0.440...  \n",
       "3  [[0.08154284, 0.5142628, 0.0099390745, 0.10628...  \n",
       "4  [[-0.16386387, 0.12687834, -0.89488053, -0.150...  "
      ]
     },
     "execution_count": 42,
     "metadata": {},
     "output_type": "execute_result"
    }
   ],
   "source": [
    "body_train.head()"
   ]
  },
  {
   "cell_type": "code",
   "execution_count": 45,
   "metadata": {},
   "outputs": [],
   "source": [
    "body_test['embeddings'] = body_test['sentences'].apply(get_embedding)"
   ]
  },
  {
   "cell_type": "code",
   "execution_count": 46,
   "metadata": {},
   "outputs": [
    {
     "data": {
      "text/html": [
       "<div>\n",
       "<style scoped>\n",
       "    .dataframe tbody tr th:only-of-type {\n",
       "        vertical-align: middle;\n",
       "    }\n",
       "\n",
       "    .dataframe tbody tr th {\n",
       "        vertical-align: top;\n",
       "    }\n",
       "\n",
       "    .dataframe thead th {\n",
       "        text-align: right;\n",
       "    }\n",
       "</style>\n",
       "<table border=\"1\" class=\"dataframe\">\n",
       "  <thead>\n",
       "    <tr style=\"text-align: right;\">\n",
       "      <th></th>\n",
       "      <th>Body ID</th>\n",
       "      <th>articleBody</th>\n",
       "      <th>sentences</th>\n",
       "      <th>embeddings</th>\n",
       "    </tr>\n",
       "  </thead>\n",
       "  <tbody>\n",
       "    <tr>\n",
       "      <th>0</th>\n",
       "      <td>1</td>\n",
       "      <td>Al-Sisi has denied Israeli reports stating tha...</td>\n",
       "      <td>[Al-Sisi has denied Israeli reports stating th...</td>\n",
       "      <td>[[0.31010464, 0.20827565, 0.23084044, -0.47201...</td>\n",
       "    </tr>\n",
       "    <tr>\n",
       "      <th>1</th>\n",
       "      <td>2</td>\n",
       "      <td>A bereaved Afghan mother took revenge on the T...</td>\n",
       "      <td>[A bereaved Afghan mother took revenge on the ...</td>\n",
       "      <td>[[0.003925855, 0.06509211, -0.0727313, 0.12800...</td>\n",
       "    </tr>\n",
       "    <tr>\n",
       "      <th>2</th>\n",
       "      <td>3</td>\n",
       "      <td>CNBC is reporting Tesla has chosen Nevada as t...</td>\n",
       "      <td>[CNBC is reporting Tesla has chosen Nevada as ...</td>\n",
       "      <td>[[0.52243996, 1.0500185, 0.61583394, 0.4663079...</td>\n",
       "    </tr>\n",
       "    <tr>\n",
       "      <th>3</th>\n",
       "      <td>12</td>\n",
       "      <td>A 4-inch version of the iPhone 6 is said to be...</td>\n",
       "      <td>[A 4-inch version of the iPhone 6 is said to b...</td>\n",
       "      <td>[[-0.22461553, 0.310677, 1.6420063, -0.1729198...</td>\n",
       "    </tr>\n",
       "    <tr>\n",
       "      <th>4</th>\n",
       "      <td>19</td>\n",
       "      <td>GR editor’s Note\\r\\n\\r\\nThere are no reports i...</td>\n",
       "      <td>[GR editor’s Note\\r\\n\\r\\nThere are no reports ...</td>\n",
       "      <td>[[0.7256343, 0.71487296, 0.795531, -0.22592303...</td>\n",
       "    </tr>\n",
       "  </tbody>\n",
       "</table>\n",
       "</div>"
      ],
      "text/plain": [
       "   Body ID                                        articleBody  \\\n",
       "0        1  Al-Sisi has denied Israeli reports stating tha...   \n",
       "1        2  A bereaved Afghan mother took revenge on the T...   \n",
       "2        3  CNBC is reporting Tesla has chosen Nevada as t...   \n",
       "3       12  A 4-inch version of the iPhone 6 is said to be...   \n",
       "4       19  GR editor’s Note\\r\\n\\r\\nThere are no reports i...   \n",
       "\n",
       "                                           sentences  \\\n",
       "0  [Al-Sisi has denied Israeli reports stating th...   \n",
       "1  [A bereaved Afghan mother took revenge on the ...   \n",
       "2  [CNBC is reporting Tesla has chosen Nevada as ...   \n",
       "3  [A 4-inch version of the iPhone 6 is said to b...   \n",
       "4  [GR editor’s Note\\r\\n\\r\\nThere are no reports ...   \n",
       "\n",
       "                                          embeddings  \n",
       "0  [[0.31010464, 0.20827565, 0.23084044, -0.47201...  \n",
       "1  [[0.003925855, 0.06509211, -0.0727313, 0.12800...  \n",
       "2  [[0.52243996, 1.0500185, 0.61583394, 0.4663079...  \n",
       "3  [[-0.22461553, 0.310677, 1.6420063, -0.1729198...  \n",
       "4  [[0.7256343, 0.71487296, 0.795531, -0.22592303...  "
      ]
     },
     "execution_count": 46,
     "metadata": {},
     "output_type": "execute_result"
    }
   ],
   "source": [
    "body_test.head()"
   ]
  },
  {
   "cell_type": "code",
   "execution_count": 47,
   "metadata": {},
   "outputs": [
    {
     "data": {
      "text/html": [
       "<div>\n",
       "<style scoped>\n",
       "    .dataframe tbody tr th:only-of-type {\n",
       "        vertical-align: middle;\n",
       "    }\n",
       "\n",
       "    .dataframe tbody tr th {\n",
       "        vertical-align: top;\n",
       "    }\n",
       "\n",
       "    .dataframe thead th {\n",
       "        text-align: right;\n",
       "    }\n",
       "</style>\n",
       "<table border=\"1\" class=\"dataframe\">\n",
       "  <thead>\n",
       "    <tr style=\"text-align: right;\">\n",
       "      <th></th>\n",
       "      <th>Headline</th>\n",
       "      <th>Body ID</th>\n",
       "      <th>Stance</th>\n",
       "      <th>sentences</th>\n",
       "    </tr>\n",
       "  </thead>\n",
       "  <tbody>\n",
       "    <tr>\n",
       "      <th>0</th>\n",
       "      <td>Police find mass graves with at least '15 bodi...</td>\n",
       "      <td>712</td>\n",
       "      <td>unrelated</td>\n",
       "      <td>[Police find mass graves with at least '15 bod...</td>\n",
       "    </tr>\n",
       "    <tr>\n",
       "      <th>1</th>\n",
       "      <td>Hundreds of Palestinians flee floods in Gaza a...</td>\n",
       "      <td>158</td>\n",
       "      <td>agree</td>\n",
       "      <td>[Hundreds of Palestinians flee floods in Gaza ...</td>\n",
       "    </tr>\n",
       "    <tr>\n",
       "      <th>2</th>\n",
       "      <td>Christian Bale passes on role of Steve Jobs, a...</td>\n",
       "      <td>137</td>\n",
       "      <td>unrelated</td>\n",
       "      <td>[Christian Bale passes on role of Steve Jobs, ...</td>\n",
       "    </tr>\n",
       "    <tr>\n",
       "      <th>3</th>\n",
       "      <td>HBO and Apple in Talks for $15/Month Apple TV ...</td>\n",
       "      <td>1034</td>\n",
       "      <td>unrelated</td>\n",
       "      <td>[HBO and Apple in Talks for $15/Month Apple TV...</td>\n",
       "    </tr>\n",
       "    <tr>\n",
       "      <th>4</th>\n",
       "      <td>Spider burrowed through tourist's stomach and ...</td>\n",
       "      <td>1923</td>\n",
       "      <td>disagree</td>\n",
       "      <td>[Spider burrowed through tourist's stomach and...</td>\n",
       "    </tr>\n",
       "  </tbody>\n",
       "</table>\n",
       "</div>"
      ],
      "text/plain": [
       "                                            Headline  Body ID     Stance  \\\n",
       "0  Police find mass graves with at least '15 bodi...      712  unrelated   \n",
       "1  Hundreds of Palestinians flee floods in Gaza a...      158      agree   \n",
       "2  Christian Bale passes on role of Steve Jobs, a...      137  unrelated   \n",
       "3  HBO and Apple in Talks for $15/Month Apple TV ...     1034  unrelated   \n",
       "4  Spider burrowed through tourist's stomach and ...     1923   disagree   \n",
       "\n",
       "                                           sentences  \n",
       "0  [Police find mass graves with at least '15 bod...  \n",
       "1  [Hundreds of Palestinians flee floods in Gaza ...  \n",
       "2  [Christian Bale passes on role of Steve Jobs, ...  \n",
       "3  [HBO and Apple in Talks for $15/Month Apple TV...  \n",
       "4  [Spider burrowed through tourist's stomach and...  "
      ]
     },
     "execution_count": 47,
     "metadata": {},
     "output_type": "execute_result"
    }
   ],
   "source": [
    "stance_train.head()"
   ]
  },
  {
   "cell_type": "code",
   "execution_count": 49,
   "metadata": {},
   "outputs": [],
   "source": [
    "stance_train['embeddings'] = stance_train['sentences'].apply(get_embedding)"
   ]
  },
  {
   "cell_type": "code",
   "execution_count": 54,
   "metadata": {},
   "outputs": [
    {
     "data": {
      "text/html": [
       "<div>\n",
       "<style scoped>\n",
       "    .dataframe tbody tr th:only-of-type {\n",
       "        vertical-align: middle;\n",
       "    }\n",
       "\n",
       "    .dataframe tbody tr th {\n",
       "        vertical-align: top;\n",
       "    }\n",
       "\n",
       "    .dataframe thead th {\n",
       "        text-align: right;\n",
       "    }\n",
       "</style>\n",
       "<table border=\"1\" class=\"dataframe\">\n",
       "  <thead>\n",
       "    <tr style=\"text-align: right;\">\n",
       "      <th></th>\n",
       "      <th>Headline</th>\n",
       "      <th>Body ID</th>\n",
       "      <th>Stance</th>\n",
       "      <th>sentences</th>\n",
       "      <th>embeddings</th>\n",
       "    </tr>\n",
       "  </thead>\n",
       "  <tbody>\n",
       "    <tr>\n",
       "      <th>0</th>\n",
       "      <td>Police find mass graves with at least '15 bodi...</td>\n",
       "      <td>712</td>\n",
       "      <td>unrelated</td>\n",
       "      <td>[Police find mass graves with at least '15 bod...</td>\n",
       "      <td>[[0.11373772, 0.32614568, -0.36455876, 0.34818...</td>\n",
       "    </tr>\n",
       "    <tr>\n",
       "      <th>1</th>\n",
       "      <td>Hundreds of Palestinians flee floods in Gaza a...</td>\n",
       "      <td>158</td>\n",
       "      <td>agree</td>\n",
       "      <td>[Hundreds of Palestinians flee floods in Gaza ...</td>\n",
       "      <td>[[0.0035811067, 0.66388166, -0.3805887, 0.0164...</td>\n",
       "    </tr>\n",
       "    <tr>\n",
       "      <th>2</th>\n",
       "      <td>Christian Bale passes on role of Steve Jobs, a...</td>\n",
       "      <td>137</td>\n",
       "      <td>unrelated</td>\n",
       "      <td>[Christian Bale passes on role of Steve Jobs, ...</td>\n",
       "      <td>[[-0.17844312, 0.40808, 0.90333754, -0.0021085...</td>\n",
       "    </tr>\n",
       "    <tr>\n",
       "      <th>3</th>\n",
       "      <td>HBO and Apple in Talks for $15/Month Apple TV ...</td>\n",
       "      <td>1034</td>\n",
       "      <td>unrelated</td>\n",
       "      <td>[HBO and Apple in Talks for $15/Month Apple TV...</td>\n",
       "      <td>[[-0.46256074, 0.61089754, 0.06796886, -0.2900...</td>\n",
       "    </tr>\n",
       "    <tr>\n",
       "      <th>4</th>\n",
       "      <td>Spider burrowed through tourist's stomach and ...</td>\n",
       "      <td>1923</td>\n",
       "      <td>disagree</td>\n",
       "      <td>[Spider burrowed through tourist's stomach and...</td>\n",
       "      <td>[[-0.43532988, 0.84769005, -0.26739606, -0.038...</td>\n",
       "    </tr>\n",
       "  </tbody>\n",
       "</table>\n",
       "</div>"
      ],
      "text/plain": [
       "                                            Headline  Body ID     Stance  \\\n",
       "0  Police find mass graves with at least '15 bodi...      712  unrelated   \n",
       "1  Hundreds of Palestinians flee floods in Gaza a...      158      agree   \n",
       "2  Christian Bale passes on role of Steve Jobs, a...      137  unrelated   \n",
       "3  HBO and Apple in Talks for $15/Month Apple TV ...     1034  unrelated   \n",
       "4  Spider burrowed through tourist's stomach and ...     1923   disagree   \n",
       "\n",
       "                                           sentences  \\\n",
       "0  [Police find mass graves with at least '15 bod...   \n",
       "1  [Hundreds of Palestinians flee floods in Gaza ...   \n",
       "2  [Christian Bale passes on role of Steve Jobs, ...   \n",
       "3  [HBO and Apple in Talks for $15/Month Apple TV...   \n",
       "4  [Spider burrowed through tourist's stomach and...   \n",
       "\n",
       "                                          embeddings  \n",
       "0  [[0.11373772, 0.32614568, -0.36455876, 0.34818...  \n",
       "1  [[0.0035811067, 0.66388166, -0.3805887, 0.0164...  \n",
       "2  [[-0.17844312, 0.40808, 0.90333754, -0.0021085...  \n",
       "3  [[-0.46256074, 0.61089754, 0.06796886, -0.2900...  \n",
       "4  [[-0.43532988, 0.84769005, -0.26739606, -0.038...  "
      ]
     },
     "execution_count": 54,
     "metadata": {},
     "output_type": "execute_result"
    }
   ],
   "source": [
    "stance_train.head()"
   ]
  },
  {
   "cell_type": "code",
   "execution_count": 55,
   "metadata": {},
   "outputs": [],
   "source": [
    "stance_test['embeddings'] = stance_test['sentences'].apply(get_embedding)"
   ]
  },
  {
   "cell_type": "code",
   "execution_count": 56,
   "metadata": {},
   "outputs": [
    {
     "data": {
      "text/html": [
       "<div>\n",
       "<style scoped>\n",
       "    .dataframe tbody tr th:only-of-type {\n",
       "        vertical-align: middle;\n",
       "    }\n",
       "\n",
       "    .dataframe tbody tr th {\n",
       "        vertical-align: top;\n",
       "    }\n",
       "\n",
       "    .dataframe thead th {\n",
       "        text-align: right;\n",
       "    }\n",
       "</style>\n",
       "<table border=\"1\" class=\"dataframe\">\n",
       "  <thead>\n",
       "    <tr style=\"text-align: right;\">\n",
       "      <th></th>\n",
       "      <th>Headline</th>\n",
       "      <th>Body ID</th>\n",
       "      <th>sentences</th>\n",
       "      <th>embeddings</th>\n",
       "    </tr>\n",
       "  </thead>\n",
       "  <tbody>\n",
       "    <tr>\n",
       "      <th>0</th>\n",
       "      <td>Ferguson riots: Pregnant woman loses eye after...</td>\n",
       "      <td>2008</td>\n",
       "      <td>[Ferguson riots: Pregnant woman loses eye afte...</td>\n",
       "      <td>[[0.317956, 0.59476596, -0.22569571, -0.283397...</td>\n",
       "    </tr>\n",
       "    <tr>\n",
       "      <th>1</th>\n",
       "      <td>Crazy Conservatives Are Sure a Gitmo Detainee ...</td>\n",
       "      <td>1550</td>\n",
       "      <td>[Crazy Conservatives Are Sure a Gitmo Detainee...</td>\n",
       "      <td>[[-0.14443071, 0.41816604, -0.11379044, 0.2560...</td>\n",
       "    </tr>\n",
       "    <tr>\n",
       "      <th>2</th>\n",
       "      <td>A Russian Guy Says His Justin Bieber Ringtone ...</td>\n",
       "      <td>2</td>\n",
       "      <td>[A Russian Guy Says His Justin Bieber Ringtone...</td>\n",
       "      <td>[[-0.23880617, 0.9361699, -0.14230421, -0.1047...</td>\n",
       "    </tr>\n",
       "    <tr>\n",
       "      <th>3</th>\n",
       "      <td>Zombie Cat: Buried Kitty Believed Dead, Meows ...</td>\n",
       "      <td>1793</td>\n",
       "      <td>[Zombie Cat: Buried Kitty Believed Dead, Meows...</td>\n",
       "      <td>[[0.031023404, 1.1899894, 0.22445874, -0.47767...</td>\n",
       "    </tr>\n",
       "    <tr>\n",
       "      <th>4</th>\n",
       "      <td>Argentina's President Adopts Boy to End Werewo...</td>\n",
       "      <td>37</td>\n",
       "      <td>[Argentina's President Adopts Boy to End Werew...</td>\n",
       "      <td>[[-0.18823671, 0.3684826, 0.056638524, 0.52585...</td>\n",
       "    </tr>\n",
       "  </tbody>\n",
       "</table>\n",
       "</div>"
      ],
      "text/plain": [
       "                                            Headline  Body ID  \\\n",
       "0  Ferguson riots: Pregnant woman loses eye after...     2008   \n",
       "1  Crazy Conservatives Are Sure a Gitmo Detainee ...     1550   \n",
       "2  A Russian Guy Says His Justin Bieber Ringtone ...        2   \n",
       "3  Zombie Cat: Buried Kitty Believed Dead, Meows ...     1793   \n",
       "4  Argentina's President Adopts Boy to End Werewo...       37   \n",
       "\n",
       "                                           sentences  \\\n",
       "0  [Ferguson riots: Pregnant woman loses eye afte...   \n",
       "1  [Crazy Conservatives Are Sure a Gitmo Detainee...   \n",
       "2  [A Russian Guy Says His Justin Bieber Ringtone...   \n",
       "3  [Zombie Cat: Buried Kitty Believed Dead, Meows...   \n",
       "4  [Argentina's President Adopts Boy to End Werew...   \n",
       "\n",
       "                                          embeddings  \n",
       "0  [[0.317956, 0.59476596, -0.22569571, -0.283397...  \n",
       "1  [[-0.14443071, 0.41816604, -0.11379044, 0.2560...  \n",
       "2  [[-0.23880617, 0.9361699, -0.14230421, -0.1047...  \n",
       "3  [[0.031023404, 1.1899894, 0.22445874, -0.47767...  \n",
       "4  [[-0.18823671, 0.3684826, 0.056638524, 0.52585...  "
      ]
     },
     "execution_count": 56,
     "metadata": {},
     "output_type": "execute_result"
    }
   ],
   "source": [
    "stance_test.head()"
   ]
  },
  {
   "cell_type": "code",
   "execution_count": 58,
   "metadata": {},
   "outputs": [],
   "source": [
    "pkl.dump(body_test, open('/gpt_embeddings/body_test.pkl', 'wb+'))\n",
    "pkl.dump(body_train, open('/gpt_embeddings/body_train.pkl', 'wb+'))"
   ]
  },
  {
   "cell_type": "code",
   "execution_count": 59,
   "metadata": {},
   "outputs": [],
   "source": [
    "pkl.dump(stance_train, open('/gpt_embeddings/stance_train.pkl', 'wb+'))\n",
    "pkl.dump(stance_test, open('/gpt_embeddings/stance_test.pkl', 'wb+'))"
   ]
  },
  {
   "cell_type": "code",
   "execution_count": null,
   "metadata": {},
   "outputs": [],
   "source": []
  }
 ],
 "metadata": {
  "kernelspec": {
   "display_name": "myenv",
   "language": "python",
   "name": "python3"
  },
  "language_info": {
   "codemirror_mode": {
    "name": "ipython",
    "version": 3
   },
   "file_extension": ".py",
   "mimetype": "text/x-python",
   "name": "python",
   "nbconvert_exporter": "python",
   "pygments_lexer": "ipython3",
   "version": "3.9.13"
  },
  "orig_nbformat": 4
 },
 "nbformat": 4,
 "nbformat_minor": 2
}
